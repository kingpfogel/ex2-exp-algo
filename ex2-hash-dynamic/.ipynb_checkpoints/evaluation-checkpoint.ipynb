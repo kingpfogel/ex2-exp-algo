{
 "cells": [
  {
   "cell_type": "code",
   "execution_count": null,
   "metadata": {},
   "outputs": [],
   "source": [
    "import simexpal\n",
    "import yaml\n",
    "\n",
    "cfg = simexpal.config_for_dir()\n",
    "\n",
    "results = []\n",
    "for run in cfg.collect_successful_results():\n",
    "    with run.open_output_file() as f:\n",
    "        yml = yaml.load(f, Loader=yaml.SafeLoader)\n",
    "    results.append(yml)\n",
    "\n",
    "for r in sorted(results, key=lambda r: (r['fill_factor'], r['algo'])):\n",
    "    print('Algorithm {}, fill factor {} takes: {} ms (insert), {} ms (lookup)'.format(\n",
    "          r['algo'], r['fill_factor'], r['time_insert'], r['time_lookup']))"
   ]
  }
 ],
 "metadata": {
  "kernelspec": {
   "display_name": "Python 3",
   "language": "python",
   "name": "python3"
  },
  "language_info": {
   "codemirror_mode": {
    "name": "ipython",
    "version": 3
   },
   "file_extension": ".py",
   "mimetype": "text/x-python",
   "name": "python",
   "nbconvert_exporter": "python",
   "pygments_lexer": "ipython3",
   "version": "3.5.3"
  }
 },
 "nbformat": 4,
 "nbformat_minor": 2
}
