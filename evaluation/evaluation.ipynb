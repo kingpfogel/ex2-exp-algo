{
 "cells": [
  {
   "cell_type": "code",
   "execution_count": null,
   "outputs": [],
   "source": [
    "import simexpal\n",
    "import yaml\n",
    "import matplotlib.pyplot as plt\n",
    "import numpy as np"
   ],
   "metadata": {
    "collapsed": false,
    "pycharm": {
     "name": "#%%\n"
    }
   }
  },
  {
   "cell_type": "markdown",
   "metadata": {
    "collapsed": true,
    "pycharm": {
     "name": "#%% md\n"
    }
   },
   "source": [
    "Aufgabe 4 - Vergleich der Algorithmen von 4 a und b"
   ]
  },
  {
   "cell_type": "code",
   "execution_count": null,
   "outputs": [],
   "source": [
    "cfg = simexpal.config_for_dir(\"hashing\")\n",
    "\n",
    "results = []\n",
    "for run in cfg.collect_successful_results():\n",
    "    with run.open_output_file() as f:\n",
    "        yml = yaml.load(f, Loader=yaml.SafeLoader)\n",
    "    results.append(yml)\n",
    "\n",
    "results = sorted(results, key=lambda r: (r['algo'], r['max_fill']))\n",
    "\n",
    "\n",
    "def getValues(key, algo):\n",
    "    return [result[key] for result in results if result['algo'] == algo]\n",
    "\n",
    "\n",
    "algos = ['static', 'dynamic', 'stl', 'static_scaling', 'dynamic_scaling']\n",
    "keys = ['time']\n",
    "\n",
    "for key in keys:\n",
    "    plt.clf()\n",
    "    for algo in algos:\n",
    "        # plotting the lines\n",
    "        plt.plot(getValues('max_fill', algo), getValues(key, algo), label=algo)\n",
    "\n",
    "    # set labels\n",
    "    plt.xlabel('Fill Factor')\n",
    "    plt.ylabel(key)\n",
    "    # Set title\n",
    "    plt.title('Fill Factor vs. ' + key)\n",
    "    # show a legend on the plot\n",
    "    plt.legend()\n",
    "    # Display a figure.\n",
    "    # plt.show()\n",
    "\n",
    "    plt.savefig('4-' + key + '.png')\n",
    "    plt.savefig('4-' + key + '.pdf')"
   ],
   "metadata": {
    "collapsed": false,
    "pycharm": {
     "name": "#%%\n"
    }
   }
  },
  {
   "cell_type": "markdown",
   "source": [
    "Aufgabe 5 - Der erste Plot zeigt die Anforderung vector-size=2^24. Der zweite Plot verdeutlicht wie sich die Anzahl der Threads zur Zeit verhält, wenn der Vektor mit Binary Strings eine Größe von 2^26 hat."
   ],
   "metadata": {
    "collapsed": false,
    "pycharm": {
     "name": "#%% md\n"
    }
   }
  },
  {
   "cell_type": "code",
   "execution_count": null,
   "outputs": [],
   "source": [
    "ds = [\"5b\", \"5c\"]\n",
    "for d in ds:\n",
    "    cfg = simexpal.config_for_dir(d)\n",
    "\n",
    "    results = []\n",
    "    for run in cfg.collect_successful_results():\n",
    "        with run.open_output_file() as f:\n",
    "            yml = yaml.load(f, Loader=yaml.SafeLoader)\n",
    "        results.append(yml)\n",
    "\n",
    "    results = sorted(results, key=lambda r: (r['num_threads']))\n",
    "\n",
    "\n",
    "    def getValues(key, algo):\n",
    "        return [result[key] for result in results if result['num_threads'] == algo]\n",
    "\n",
    "    algos = [1, 2, 4, 8, 16, 32, 64]\n",
    "    keys = ['time']\n",
    "    for key in keys:\n",
    "        plt.clf()\n",
    "        for algo in algos:\n",
    "            # plotting the lines\n",
    "\n",
    "            plt.plot(np.mean(getValues('num_threads', algo)), (np.mean(getValues(key, 1))/np.mean(getValues(key, algo))), \"o\", label=algo)\n",
    "\n",
    "        # set labels\n",
    "        plt.xlabel('Threads')\n",
    "        plt.ylabel('Speedup compared to one Thread')\n",
    "        # Set title\n",
    "        plt.title('Threads vs. ' + key)\n",
    "        # show a legend on the plot\n",
    "        plt.legend()\n",
    "        # Display a figure.\n",
    "        # plt.show()\n",
    "\n",
    "        plt.savefig(d+'-' + key + '.png')\n",
    "        plt.savefig(d+'-' + key + '.pdf')"
   ],
   "metadata": {
    "collapsed": false,
    "pycharm": {
     "name": "#%%\n"
    }
   }
  },
  {
   "cell_type": "markdown",
   "source": [
    "Der erste dieser Beiden Plots ist der Plot für den vector mit size 2^24. Der zweite Plot bezieht sich auf einen vector der Größe 2^26.\n",
    "\n",
    "\n"
   ],
   "metadata": {
    "collapsed": false
   }
  }
 ],
 "metadata": {
  "kernelspec": {
   "display_name": "Python 3",
   "language": "python",
   "name": "python3"
  },
  "language_info": {
   "codemirror_mode": {
    "name": "ipython",
    "version": 2
   },
   "file_extension": ".py",
   "mimetype": "text/x-python",
   "name": "python",
   "nbconvert_exporter": "python",
   "pygments_lexer": "ipython2",
   "version": "2.7.6"
  }
 },
 "nbformat": 4,
 "nbformat_minor": 0
}